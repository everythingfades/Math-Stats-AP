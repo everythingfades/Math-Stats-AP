{
 "cells": [
  {
   "cell_type": "markdown",
   "id": "6d0cfe4f",
   "metadata": {},
   "source": [
    "# 问题简述\n",
    "\n",
    "一年认定为365天(暂时忽略闰年),计算在n个人的小组中至少有两个人的生日相同的概率\n",
    "\n",
    "# 思路:\n",
    "$\\because$\n",
    "$$P(至少存在两个人生日相同) = P(两个人生日相同) + P(三个人生日相同) + P(四个人生日相同) + \\dots +P(所有人生日相同) = \\sum_{i=1}^{n}P(i个人生日相同)$$\n",
    "\n",
    "$\\therefore$\n",
    "$$太麻烦了,换方法$$\n",
    "\n",
    "\n",
    "$$P(至少存在两个人生日相同) = 1 - P(任意两个人生日都不相同)$$\n",
    "\n",
    "\n",
    "$$P(任意两个人生日都不相同) = \\frac{365}{365} \\times \\frac{364}{365} \\times \\frac{363}{365} \\times \\dots \\times \\frac{365-n+1}{365} = \\frac{1}{365}\\Pi_{i=1}^{n-1}\\frac{365-n+1}{365}$$\n",
    "# 代码\n",
    "## 计算概率"
   ]
  },
  {
   "cell_type": "code",
   "execution_count": 11,
   "id": "1fa60dd3",
   "metadata": {},
   "outputs": [
    {
     "name": "stdout",
     "output_type": "stream",
     "text": [
      "0.6800944786763462\n"
     ]
    }
   ],
   "source": [
    "def birthdayCheck(people):\n",
    "    p = 1;\n",
    "    for i in range(people):\n",
    "        p = p*(365-i+1)/365\n",
    "    print(1-p)\n",
    "birthdayCheck(30);"
   ]
  },
  {
   "cell_type": "markdown",
   "id": "1e1e9c0b",
   "metadata": {},
   "source": [
    "## 模拟\n",
    "把1月1日到12月31日赋值为1到365"
   ]
  },
  {
   "cell_type": "markdown",
   "id": "78016923",
   "metadata": {},
   "source": [
    "### 步骤一:给人分配生日"
   ]
  },
  {
   "cell_type": "code",
   "execution_count": 8,
   "id": "f4a23a8f",
   "metadata": {},
   "outputs": [],
   "source": [
    "import random\n",
    "def simulation(people):\n",
    "    birthdays = list()\n",
    "    peoples = list()\n",
    "    for i in range(people):\n",
    "        birthdays.append(random.randint(1,365))\n",
    "        peoples.append(i)\n",
    "    return birthdays,peoples"
   ]
  },
  {
   "cell_type": "markdown",
   "id": "147761b6",
   "metadata": {},
   "source": [
    "### 步骤二:查看生日是否相同"
   ]
  },
  {
   "cell_type": "code",
   "execution_count": 9,
   "id": "cdfbd723",
   "metadata": {},
   "outputs": [],
   "source": [
    "def tran(z):\n",
    "    a = [1,31,59,90,120,151,181,212,243,273,304,334]\n",
    "    str = ''\n",
    "    for j in z:\n",
    "        for i in range(len(a)):\n",
    "            if j < a[i]:\n",
    "                str += \"{}月{}号\".format(i,j-a[i-1]+1)\n",
    "                str += \"  |  \"\n",
    "                break\n",
    "    return str if str != '' else \"无\""
   ]
  },
  {
   "cell_type": "code",
   "execution_count": 10,
   "id": "0aeda985",
   "metadata": {},
   "outputs": [
    {
     "name": "stdout",
     "output_type": "stream",
     "text": [
      "[40, 161, 316, 199, 28, 26, 50, 129, 118, 269, 128, 88, 69, 333, 351, 323, 337, 97, 1, 88, 280, 187, 18, 141, 300, 257, 241, 50, 113, 213]\n",
      "有2组生日相同\n",
      "重复日期为2月20号  |  3月30号  |  \n",
      "第6人和第27人生日相同\n",
      "第11人和第19人生日相同\n"
     ]
    }
   ],
   "source": [
    "birthdays,peoples = simulation(30)\n",
    "import matplotlib.pyplot as plt\n",
    "def alter(x,y):\n",
    "    return x, y+3\n",
    "def getSame(birthdays):\n",
    "    cnt = 0\n",
    "    x = list()\n",
    "    y = list()\n",
    "    z = list()\n",
    "    for i in range(len(birthdays)):\n",
    "        for j in range(i+1,len(birthdays)):\n",
    "            if birthdays[i] == birthdays[j]:\n",
    "                cnt += 1\n",
    "                x.append(i)\n",
    "                y.append(j)\n",
    "                z.append(birthdays[i])\n",
    "    return cnt,x,y,z\n",
    "\n",
    "cnt,x,y,z = getSame(birthdays)\n",
    "print(tran(birthdays))\n",
    "print(\"有{}组生日相同\".format(cnt))\n",
    "print(\"重复日期为\" + tran(z))\n",
    "for i in range(len(x)):\n",
    "    print(\"第{}人和第{}人生日相同\".format(x[i],y[i]))"
   ]
  },
  {
   "cell_type": "code",
   "execution_count": 5,
   "id": "683f5660",
   "metadata": {},
   "outputs": [
    {
     "name": "stderr",
     "output_type": "stream",
     "text": [
      "D:\\anaconda3\\lib\\site-packages\\gdown\\cli.py:127: FutureWarning: Option `--id` was deprecated in version 4.3.1 and will be removed in 5.0. You don't need to pass it anymore to use a file ID.\n",
      "  warnings.warn(\n",
      "Traceback (most recent call last):\n",
      "  File \"D:\\anaconda3\\lib\\site-packages\\urllib3\\connection.py\", line 174, in _new_conn\n",
      "    conn = connection.create_connection(\n",
      "  File \"D:\\anaconda3\\lib\\site-packages\\urllib3\\util\\connection.py\", line 96, in create_connection\n",
      "    raise err\n",
      "  File \"D:\\anaconda3\\lib\\site-packages\\urllib3\\util\\connection.py\", line 86, in create_connection\n",
      "    sock.connect(sa)\n",
      "TimeoutError: [WinError 10060] 由于连接方在一段时间后没有正确答复或连接的主机没有反应，连接尝试失败。\n",
      "\n",
      "During handling of the above exception, another exception occurred:\n",
      "\n",
      "Traceback (most recent call last):\n",
      "  File \"D:\\anaconda3\\lib\\site-packages\\urllib3\\connectionpool.py\", line 699, in urlopen\n",
      "    httplib_response = self._make_request(\n",
      "  File \"D:\\anaconda3\\lib\\site-packages\\urllib3\\connectionpool.py\", line 382, in _make_request\n",
      "    self._validate_conn(conn)\n",
      "  File \"D:\\anaconda3\\lib\\site-packages\\urllib3\\connectionpool.py\", line 1010, in _validate_conn\n",
      "    conn.connect()\n",
      "  File \"D:\\anaconda3\\lib\\site-packages\\urllib3\\connection.py\", line 358, in connect\n",
      "    conn = self._new_conn()\n",
      "  File \"D:\\anaconda3\\lib\\site-packages\\urllib3\\connection.py\", line 186, in _new_conn\n",
      "    raise NewConnectionError(\n",
      "urllib3.exceptions.NewConnectionError: <urllib3.connection.HTTPSConnection object at 0x00000218D2C56C10>: Failed to establish a new connection: [WinError 10060] 由于连接方在一段时间后没有正确答复或连接的主机没有反应，连接尝试失败。\n",
      "\n",
      "During handling of the above exception, another exception occurred:\n",
      "\n",
      "Traceback (most recent call last):\n",
      "  File \"D:\\anaconda3\\lib\\site-packages\\requests\\adapters.py\", line 439, in send\n",
      "    resp = conn.urlopen(\n",
      "  File \"D:\\anaconda3\\lib\\site-packages\\urllib3\\connectionpool.py\", line 755, in urlopen\n",
      "    retries = retries.increment(\n",
      "  File \"D:\\anaconda3\\lib\\site-packages\\urllib3\\util\\retry.py\", line 574, in increment\n",
      "    raise MaxRetryError(_pool, url, error or ResponseError(cause))\n",
      "urllib3.exceptions.MaxRetryError: HTTPSConnectionPool(host='drive.google.com', port=443): Max retries exceeded with url: /uc?id=1fsKERl26TNTFIY25PhReoCujxwJvfyHn (Caused by NewConnectionError('<urllib3.connection.HTTPSConnection object at 0x00000218D2C56C10>: Failed to establish a new connection: [WinError 10060] 由于连接方在一段时间后没有正确答复或连接的主机没有反应，连接尝试失败。'))\n",
      "\n",
      "During handling of the above exception, another exception occurred:\n",
      "\n",
      "Traceback (most recent call last):\n",
      "  File \"D:\\anaconda3\\lib\\runpy.py\", line 197, in _run_module_as_main\n",
      "    return _run_code(code, main_globals, None,\n",
      "  File \"D:\\anaconda3\\lib\\runpy.py\", line 87, in _run_code\n",
      "    exec(code, run_globals)\n",
      "  File \"D:\\anaconda3\\Scripts\\gdown.exe\\__main__.py\", line 7, in <module>\n",
      "  File \"D:\\anaconda3\\lib\\site-packages\\gdown\\cli.py\", line 156, in main\n",
      "    filename = download(\n",
      "  File \"D:\\anaconda3\\lib\\site-packages\\gdown\\download.py\", line 146, in download\n",
      "    res = sess.get(url, headers=headers, stream=True, verify=verify)\n",
      "  File \"D:\\anaconda3\\lib\\site-packages\\requests\\sessions.py\", line 555, in get\n",
      "    return self.request('GET', url, **kwargs)\n",
      "  File \"D:\\anaconda3\\lib\\site-packages\\requests\\sessions.py\", line 542, in request\n",
      "    resp = self.send(prep, **send_kwargs)\n",
      "  File \"D:\\anaconda3\\lib\\site-packages\\requests\\sessions.py\", line 655, in send\n",
      "    r = adapter.send(request, **kwargs)\n",
      "  File \"D:\\anaconda3\\lib\\site-packages\\requests\\adapters.py\", line 516, in send\n",
      "    raise ConnectionError(e, request=request)\n",
      "requests.exceptions.ConnectionError: HTTPSConnectionPool(host='drive.google.com', port=443): Max retries exceeded with url: /uc?id=1fsKERl26TNTFIY25PhReoCujxwJvfyHn (Caused by NewConnectionError('<urllib3.connection.HTTPSConnection object at 0x00000218D2C56C10>: Failed to establish a new connection: [WinError 10060] 由于连接方在一段时间后没有正确答复或连接的主机没有反应，连接尝试失败。'))\n"
     ]
    },
    {
     "ename": "AttributeError",
     "evalue": "module 'matplotlib' has no attribute 'font_manager'",
     "output_type": "error",
     "traceback": [
      "\u001b[1;31m---------------------------------------------------------------------------\u001b[0m",
      "\u001b[1;31mAttributeError\u001b[0m                            Traceback (most recent call last)",
      "\u001b[1;32m~\\AppData\\Local\\Temp/ipykernel_41456/1800220739.py\u001b[0m in \u001b[0;36m<module>\u001b[1;34m\u001b[0m\n\u001b[0;32m      1\u001b[0m \u001b[0mget_ipython\u001b[0m\u001b[1;33m(\u001b[0m\u001b[1;33m)\u001b[0m\u001b[1;33m.\u001b[0m\u001b[0msystem\u001b[0m\u001b[1;33m(\u001b[0m\u001b[1;34m'gdown --id 1fsKERl26TNTFIY25PhReoCujxwJvfyHn'\u001b[0m\u001b[1;33m)\u001b[0m\u001b[1;33m\u001b[0m\u001b[1;33m\u001b[0m\u001b[0m\n\u001b[0;32m      2\u001b[0m \u001b[1;32mimport\u001b[0m \u001b[0mmatplotlib\u001b[0m \u001b[1;32mas\u001b[0m \u001b[0mmpl\u001b[0m\u001b[1;33m\u001b[0m\u001b[1;33m\u001b[0m\u001b[0m\n\u001b[1;32m----> 3\u001b[1;33m \u001b[0mzhfont\u001b[0m \u001b[1;33m=\u001b[0m \u001b[0mmpl\u001b[0m\u001b[1;33m.\u001b[0m\u001b[0mfont_manager\u001b[0m\u001b[1;33m.\u001b[0m\u001b[0mFontProperties\u001b[0m\u001b[1;33m(\u001b[0m\u001b[0mfname\u001b[0m\u001b[1;33m=\u001b[0m\u001b[1;34m'SimHei .ttf'\u001b[0m\u001b[1;33m)\u001b[0m\u001b[1;33m\u001b[0m\u001b[1;33m\u001b[0m\u001b[0m\n\u001b[0m\u001b[0;32m      4\u001b[0m \u001b[0mplt\u001b[0m\u001b[1;33m.\u001b[0m\u001b[0mrcParams\u001b[0m\u001b[1;33m[\u001b[0m\u001b[1;34m'font.sans-serif'\u001b[0m\u001b[1;33m]\u001b[0m \u001b[1;33m=\u001b[0m \u001b[1;33m[\u001b[0m\u001b[1;34m'SimHei'\u001b[0m\u001b[1;33m]\u001b[0m\u001b[1;33m\u001b[0m\u001b[1;33m\u001b[0m\u001b[0m\n",
      "\u001b[1;31mAttributeError\u001b[0m: module 'matplotlib' has no attribute 'font_manager'"
     ]
    }
   ],
   "source": [
    "!gdown --id 1fsKERl26TNTFIY25PhReoCujxwJvfyHn\n",
    "import matplotlib as mpl\n",
    "zhfont = mpl.font_manager.FontProperties(fname='SimHei .ttf')\n",
    "plt.rcParams['font.sans-serif'] = ['SimHei']"
   ]
  },
  {
   "cell_type": "code",
   "execution_count": 13,
   "id": "89c2151d",
   "metadata": {},
   "outputs": [
    {
     "data": {
      "image/png": "[encoded data removed]",
      "text/plain": [
       "<Figure size 1280x800 with 1 Axes>"
      ]
     },
     "metadata": {
      "needs_background": "light"
     },
     "output_type": "display_data"
    }
   ],
   "source": [
    "import matplotlib.pyplot as plt\n",
    "from matplotlib.patches import Ellipse\n",
    "fig, ax = plt.subplots(figsize=(16,10), dpi= 80)\n",
    "ax.hlines(y=[31,59,90,120,151,181,212,243,273,304,334,365], xmin=0, xmax=len(peoples)+1, color='gray', alpha=0.7, linewidth=1, linestyles='dashdot')\n",
    "ax.scatter(y=birthdays, x=peoples, s=75, color='black', alpha=0.7)\n",
    "plt.rc('font',family='SimHei')\n",
    "# Title, Label, Ticks and Ylim\n",
    "ax.set_title('随机生日分布,人数:{}'.format(len(peoples)), fontdict={'size':22})\n",
    "ax.set_xlabel('人员编号')\n",
    "ax.set_ylabel('日期')\n",
    "ax.set_yticklabels = ['一月','二月','三月','四月','五月','六月','七月','八月','九月','十月','十一月','十二月']\n",
    "ax.set_yticks([31,59,90,120,151,181,212,243,273,304,334,365])\n",
    "for i in range(len(birthdays)):\n",
    "    textx,texty = alter(peoples[i],birthdays[i])\n",
    "    ax.text(textx,texty,birthdays[i])\n",
    "if cnt != 0:\n",
    "    for i in range(len(x)):\n",
    "        plt.gcf().gca().add_artist(Ellipse(xy = (x[i],z[i]), width = 1, height = 17, fill = False, color = \"red\"))\n",
    "        plt.gcf().gca().add_artist(Ellipse(xy = (y[i],z[i]), width = 1, height = 17, fill = False, color = \"red\"))\n",
    "ax.set_xlim()\n",
    "plt.show()"
   ]
  },
  {
   "cell_type": "markdown",
   "id": "54ca491c",
   "metadata": {},
   "source": [
    "由于字体问题,如果使用google colab运行,使用下面代码,否则中文汉字因为没有字体导致乱码"
   ]
  },
  {
   "cell_type": "code",
   "execution_count": null,
   "id": "51554e6f",
   "metadata": {},
   "outputs": [],
   "source": [
    "!gdown --id 1fsKERl26TNTFIY25PhReoCujxwJvfyHn\n",
    "import matplotlib as mpl\n",
    "zhfont = mpl.font_manager.FontProperties(fname='SimHei .ttf')\n",
    "from matplotlib.patches import Ellipse\n",
    "fig, ax = plt.subplots(figsize=(16,10), dpi= 80)\n",
    "ax.hlines(y=[31,59,90,120,151,181,212,243,273,304,334,365], xmin=0, xmax=len(peoples)+1, color='gray', alpha=0.7, linewidth=1, linestyles='dashdot')\n",
    "ax.scatter(y=birthdays, x=peoples, s=75, color='black', alpha=0.7)\n",
    "\n",
    "# Title, Label, Ticks and Ylim\n",
    "ax.set_title('随机生日分布,人数:{}'.format(len(peoples)), fontdict={'size':22},fontproperties=zhfont)\n",
    "ax.set_xlabel('人员编号',fontproperties=zhfont)\n",
    "ax.set_ylabel('日期',fontproperties=zhfont)\n",
    "ax.set_yticklabels(['一月','二月','三月','四月','五月','六月','七月','八月','九月','十月','十一月','十二月'], fontproperties = zhfont)\n",
    "ax.set_yticks([31,59,90,120,151,181,212,243,273,304,334,365])\n",
    "for i in range(len(birthdays)):\n",
    "    textx,texty = alter(peoples[i],birthdays[i])\n",
    "    ax.text(textx,texty,birthdays[i])\n",
    "if cnt != 0:\n",
    "    for i in range(len(x)):\n",
    "        plt.gcf().gca().add_artist(Ellipse(xy = (x[i],z[i]), width = 1, height = 17, fill = False, color = \"red\"))\n",
    "        plt.gcf().gca().add_artist(Ellipse(xy = (y[i],z[i]), width = 1, height = 17, fill = False, color = \"red\"))\n",
    "ax.set_xlim()\n",
    "plt.show()"
   ]
  }
 ],
 "metadata": {
  "kernelspec": {
   "display_name": "Python 3 (ipykernel)",
   "language": "python",
   "name": "python3"
  },
  "language_info": {
   "codemirror_mode": {
    "name": "ipython",
    "version": 3
   },
   "file_extension": ".py",
   "mimetype": "text/x-python",
   "name": "python",
   "nbconvert_exporter": "python",
   "pygments_lexer": "ipython3",
   "version": "3.9.7"
  },
  "toc": {
   "base_numbering": 1,
   "nav_menu": {},
   "number_sections": true,
   "sideBar": true,
   "skip_h1_title": false,
   "title_cell": "Table of Contents",
   "title_sidebar": "Contents",
   "toc_cell": false,
   "toc_position": {},
   "toc_section_display": true,
   "toc_window_display": false
  }
 },
 "nbformat": 4,
 "nbformat_minor": 5
}
